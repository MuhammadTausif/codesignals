{
 "cells": [
  {
   "cell_type": "markdown",
   "metadata": {},
   "source": [
    "# Adjacent Elements Product\n",
    "\n",
    "Given an array of integers, find the pair of adjacent elements that has the largest product and return that product.\n",
    "\n",
    "## Example\n",
    "\n",
    "For `inputArray = [3, 6, -2, -5, 7, 3]`, the output should be\n",
    "`solution(inputArray) = 21`.\n",
    "\n",
    "`7` and `3` produce the largest product."
   ]
  },
  {
   "cell_type": "code",
   "execution_count": 3,
   "metadata": {},
   "outputs": [],
   "source": [
    "def solution(inputArray):\n",
    "    return max(inputArray[a]*inputArray[a+1] for a in range(len(inputArray) -1))"
   ]
  },
  {
   "cell_type": "code",
   "execution_count": 4,
   "metadata": {},
   "outputs": [
    {
     "data": {
      "text/plain": [
       "21"
      ]
     },
     "execution_count": 4,
     "metadata": {},
     "output_type": "execute_result"
    }
   ],
   "source": [
    "inputArray = [3, 6, -2, -5, 7, 3]\n",
    "solution(inputArray)"
   ]
  }
 ],
 "metadata": {
  "interpreter": {
   "hash": "fcdac387b723dab6cabf3be3f58bcaa9a14417ae421727ee28a12c9f5deacad3"
  },
  "kernelspec": {
   "display_name": "Python 3.10.4 64-bit",
   "language": "python",
   "name": "python3"
  },
  "language_info": {
   "codemirror_mode": {
    "name": "ipython",
    "version": 3
   },
   "file_extension": ".py",
   "mimetype": "text/x-python",
   "name": "python",
   "nbconvert_exporter": "python",
   "pygments_lexer": "ipython3",
   "version": "3.10.4"
  },
  "orig_nbformat": 4
 },
 "nbformat": 4,
 "nbformat_minor": 2
}

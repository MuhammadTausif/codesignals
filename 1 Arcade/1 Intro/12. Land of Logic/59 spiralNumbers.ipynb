{
 "cells": [
  {
   "cell_type": "markdown",
   "metadata": {},
   "source": [
    "# Spiral Numbers\n",
    "Construct a square matrix with a size N × N containing integers from 1 to N * N in a spiral order, starting from top-left and in clockwise direction.\n",
    "\n",
    "## Example\n",
    "\n",
    "For `n = 3`, the output should be\n",
    "\n",
    "`solution(n) = [[1, 2, 3],\n",
    "                    [8, 9, 4],\n",
    "                    [7, 6, 5]]`"
   ]
  },
  {
   "cell_type": "code",
   "execution_count": 1,
   "metadata": {},
   "outputs": [],
   "source": [
    "def solution(n):\n",
    "    m = [[0] * n for i in range(n)]\n",
    "    dx, dy = [0, 1, 0, -1], [1, 0, -1, 0]\n",
    "    x, y, c = 0, -1, 1\n",
    "    for i in range(n + n - 1):\n",
    "        for j in range((n + n - i) // 2):\n",
    "            x += dx[i % 4]\n",
    "            y += dy[i % 4]\n",
    "            m[x][y] = c\n",
    "            c += 1\n",
    "    return m"
   ]
  },
  {
   "cell_type": "code",
   "execution_count": 2,
   "metadata": {},
   "outputs": [],
   "source": [
    "def solution(n):\n",
    "    dirs = [(0, 1), (1, 0), (0, -1), (-1, 0)]\n",
    "    curDir = 0\n",
    "    curPos = (0, 0)\n",
    "    res = [[0 for i in range(n)] for i in range(n)]\n",
    "    for i in range(1, n * n + 1):\n",
    "        res[curPos[0]][curPos[1]] = i\n",
    "        nextPos = curPos[0] + dirs[curDir][0], curPos[1] + dirs[curDir][1]\n",
    "        if not (0 <= nextPos[0] < n and\n",
    "                0 <= nextPos[1] < n and\n",
    "                res[nextPos[0]][nextPos[1]] == 0):\n",
    "            curDir = (curDir + 1) % 4\n",
    "            nextPos = curPos[0] + dirs[curDir][0], curPos[1] + dirs[curDir][1]\n",
    "        curPos = nextPos\n",
    "    return res"
   ]
  },
  {
   "cell_type": "code",
   "execution_count": 3,
   "metadata": {},
   "outputs": [],
   "source": [
    "def solution(n):\n",
    "    a = [[0] * n for i in range(n)]\n",
    "    \n",
    "    num, rad = 1, n\n",
    "\n",
    "    while rad > 0:\n",
    "        i = n - rad\n",
    "        for j in range(n - rad, rad):\n",
    "            a[i][j] = num\n",
    "            num += 1\n",
    "\n",
    "        for i in range(n - rad + 1, rad):\n",
    "            a[i][j] = num\n",
    "            num += 1 \n",
    "\n",
    "        for j in range(rad - 2, n - rad - 1, -1):\n",
    "            a[i][j] = num\n",
    "            num += 1\n",
    "\n",
    "        for i in range(rad - 2, n - rad, -1):\n",
    "            a[i][j] = num\n",
    "            num += 1         \n",
    "\n",
    "        rad -= 1\n",
    "    \n",
    "    return a\n"
   ]
  },
  {
   "cell_type": "code",
   "execution_count": 4,
   "metadata": {},
   "outputs": [],
   "source": [
    "def solution(n):\n",
    "    p = [(1 if i % 2 == 0 else n)*((-1)**((i//2) % 2)) for i in range(2*n-1) for j in range(n-(i+1)//2)]\n",
    "    q = [sum(p[:i+1]) for i in range(n*n)]\n",
    "    r = sorted([i+1 for i in range(n*n)], key=lambda x: q[x-1])\n",
    "    return [r[n*i:n*(i+1)] for i in range(n)]\n"
   ]
  },
  {
   "cell_type": "code",
   "execution_count": null,
   "metadata": {},
   "outputs": [],
   "source": [
    "# Python 2\n",
    "\n",
    "def solution(n,m=0,s=1):\n",
    "    \n",
    "    if m==0:m=n\n",
    "    if n==1==m:\n",
    "        return [[s]]\n",
    "    \n",
    "    #Calculate spiral numbers without first row\n",
    "    S=solution(m-1,n,s+n)\n",
    "    \n",
    "    #Create first row and add the transpose of the rest\n",
    "    return [range(s,s+n)]+zip(*S[::-1])\n"
   ]
  }
 ],
 "metadata": {
  "interpreter": {
   "hash": "fcdac387b723dab6cabf3be3f58bcaa9a14417ae421727ee28a12c9f5deacad3"
  },
  "kernelspec": {
   "display_name": "Python 3.10.4 64-bit",
   "language": "python",
   "name": "python3"
  },
  "language_info": {
   "codemirror_mode": {
    "name": "ipython",
    "version": 3
   },
   "file_extension": ".py",
   "mimetype": "text/x-python",
   "name": "python",
   "nbconvert_exporter": "python",
   "pygments_lexer": "ipython3",
   "version": "3.10.4"
  },
  "orig_nbformat": 4
 },
 "nbformat": 4,
 "nbformat_minor": 2
}

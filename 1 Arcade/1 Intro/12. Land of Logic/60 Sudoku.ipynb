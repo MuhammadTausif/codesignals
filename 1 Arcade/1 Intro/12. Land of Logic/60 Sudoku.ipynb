{
 "cells": [
  {
   "cell_type": "markdown",
   "metadata": {},
   "source": [
    "# Sudoku\n",
    "Sudoku is a number-placement puzzle. The objective is to fill a `9 × 9` grid with digits so that each column, each row, and each of the nine `3 × 3` sub-grids that compose the grid contains all of the digits from `1` to `9`.\n",
    "\n",
    "This algorithm should check if the given grid of numbers represents a correct solution to Sudoku.\n",
    "\n",
    "## Example\n",
    "\n",
    "- For\n",
    "`grid = [[1, 3, 2, 5, 4, 6, 9, 8, 7],\n",
    "        [4, 6, 5, 8, 7, 9, 3, 2, 1],\n",
    "        [7, 9, 8, 2, 1, 3, 6, 5, 4],\n",
    "        [9, 2, 1, 4, 3, 5, 8, 7, 6],\n",
    "        [3, 5, 4, 7, 6, 8, 2, 1, 9],\n",
    "        [6, 8, 7, 1, 9, 2, 5, 4, 3],\n",
    "        [5, 7, 6, 9, 8, 1, 4, 3, 2],\n",
    "        [2, 4, 3, 6, 5, 7, 1, 9, 8],\n",
    "        [8, 1, 9, 3, 2, 4, 7, 6, 5]]`\n",
    "the output should be\n",
    "`solution(grid) = true`;\n",
    "\n",
    "- For\n",
    "`grid = [[1, 3, 2, 5, 4, 6, 9, 2, 7],\n",
    "        [4, 6, 5, 8, 7, 9, 3, 8, 1],\n",
    "        [7, 9, 8, 2, 1, 3, 6, 5, 4],\n",
    "        [9, 2, 1, 4, 3, 5, 8, 7, 6],\n",
    "        [3, 5, 4, 7, 6, 8, 2, 1, 9],\n",
    "        [6, 8, 7, 1, 9, 2, 5, 4, 3],\n",
    "        [5, 7, 6, 9, 8, 1, 4, 3, 2],\n",
    "        [2, 4, 3, 6, 5, 7, 1, 9, 8],\n",
    "        [8, 1, 9, 3, 2, 4, 7, 6, 5]]`\n",
    "the output should be\n",
    "`solution(grid) = false`.\n",
    "\n",
    "The output should be `false`: each of the nine `3 × 3` sub-grids should contain all of the digits from `1` to `9`.\n",
    "These examples are represented on the image below."
   ]
  },
  {
   "cell_type": "code",
   "execution_count": 7,
   "metadata": {},
   "outputs": [],
   "source": [
    "grid_f = [[1, 3, 2, 5, 4, 6, 9, 2, 7],\n",
    "        [4, 6, 5, 8, 7, 9, 3, 8, 1],\n",
    "        [7, 9, 8, 2, 1, 3, 6, 5, 4],\n",
    "        [9, 2, 1, 4, 3, 5, 8, 7, 6],\n",
    "        [3, 5, 4, 7, 6, 8, 2, 1, 9],\n",
    "        [6, 8, 7, 1, 9, 2, 5, 4, 3],\n",
    "        [5, 7, 6, 9, 8, 1, 4, 3, 2],\n",
    "        [2, 4, 3, 6, 5, 7, 1, 9, 8],\n",
    "        [8, 1, 9, 3, 2, 4, 7, 6, 5]]\n",
    "\n",
    "grid_t = [[1, 3, 2, 5, 4, 6, 9, 8, 7],\n",
    "        [4, 6, 5, 8, 7, 9, 3, 2, 1],\n",
    "        [7, 9, 8, 2, 1, 3, 6, 5, 4],\n",
    "        [9, 2, 1, 4, 3, 5, 8, 7, 6],\n",
    "        [3, 5, 4, 7, 6, 8, 2, 1, 9],\n",
    "        [6, 8, 7, 1, 9, 2, 5, 4, 3],\n",
    "        [5, 7, 6, 9, 8, 1, 4, 3, 2],\n",
    "        [2, 4, 3, 6, 5, 7, 1, 9, 8],\n",
    "        [8, 1, 9, 3, 2, 4, 7, 6, 5]]"
   ]
  },
  {
   "cell_type": "code",
   "execution_count": 8,
   "metadata": {},
   "outputs": [
    {
     "data": {
      "text/plain": [
       "array([[1, 3, 2, 5, 4, 6, 9, 8, 7],\n",
       "       [4, 6, 5, 8, 7, 9, 3, 2, 1],\n",
       "       [7, 9, 8, 2, 1, 3, 6, 5, 4],\n",
       "       [9, 2, 1, 4, 3, 5, 8, 7, 6],\n",
       "       [3, 5, 4, 7, 6, 8, 2, 1, 9],\n",
       "       [6, 8, 7, 1, 9, 2, 5, 4, 3],\n",
       "       [5, 7, 6, 9, 8, 1, 4, 3, 2],\n",
       "       [2, 4, 3, 6, 5, 7, 1, 9, 8],\n",
       "       [8, 1, 9, 3, 2, 4, 7, 6, 5]])"
      ]
     },
     "execution_count": 8,
     "metadata": {},
     "output_type": "execute_result"
    }
   ],
   "source": [
    "import numpy\n",
    "grid = numpy.array(grid_t)\n",
    "grid"
   ]
  },
  {
   "cell_type": "code",
   "execution_count": 9,
   "metadata": {},
   "outputs": [],
   "source": [
    "import numpy\n",
    "def solution(grid):\n",
    "    grid = numpy.array(grid)\n",
    "    for i in range(3):\n",
    "        for j in range(3):\n",
    "            k = j + 3*i\n",
    "            if len(numpy.unique(grid[k,:])) < 9:\n",
    "                return False\n",
    "            if len(numpy.unique(grid[:,k])) < 9:\n",
    "                return False\n",
    "            if len(numpy.unique(grid[3*i:3*i+3,3*j:3*j+3])) < 9:\n",
    "                return False\n",
    "    return True\n",
    "\n",
    "solution(grid_t)"
   ]
  },
  {
   "cell_type": "code",
   "execution_count": 2,
   "metadata": {},
   "outputs": [],
   "source": [
    "def solution1(grid):\n",
    "    columnum = 0\n",
    "    row = all([len(set(x))==9 for x in grid])\n",
    "    column = all([len(set([grid[y][x] for y in range(9)]))==9 for x in range(9)])\n",
    "    sub_grid = all([len(set([grid[y+columnum*3][x+rownum*3] for y in range(3) for x in range(3)]))==9 for rownum in range(3) for columnum in range(3)])\n",
    "    return all((row,column,sub_grid))"
   ]
  },
  {
   "cell_type": "code",
   "execution_count": 3,
   "metadata": {},
   "outputs": [],
   "source": [
    "def solution2(grid):\n",
    "    orig = set(range(1, 10))\n",
    "    for i in range(9):\n",
    "        row = grid[i]\n",
    "        if set(row) != orig:\n",
    "            return False\n",
    "        col = [grid[j][i] for j in range(9)]\n",
    "        if set(col) != orig:\n",
    "            return False\n",
    "        subGrid = [grid[(i//3)*3+p][(i%3)*3:(i%3)*3+3][q] for p in range(3) for q in range(3)]\n",
    "        if set(subGrid) != orig:\n",
    "            return False\n",
    "    return True        "
   ]
  },
  {
   "cell_type": "code",
   "execution_count": 4,
   "metadata": {},
   "outputs": [],
   "source": [
    "def solution3(grid):\n",
    "    from itertools import product\n",
    "    start = list(product(list(range(0, 9, 3)), list(range(0, 9, 3))))\n",
    "    return all([len(set(line)) == 9 for line in grid] + [len(set(line)) == 9 for line in zip(*grid)] + [len(square) == 9 for square in (map(set, [[element for sublist in x for element in sublist] for x in [flat for flat in [[row[j:j+3] for row in grid[i:i+3]] for i, j in product(range(0, 9, 3), range(0, 9, 3))]]]))])    "
   ]
  },
  {
   "cell_type": "code",
   "execution_count": null,
   "metadata": {},
   "outputs": [],
   "source": [
    "def solution4(grid):\n",
    "    rowset = set()\n",
    "    colset = set()\n",
    "    for i in range(9):\n",
    "        rowset = set()\n",
    "        colset = set()\n",
    "        for j in range(9):\n",
    "            rowset.add(grid[i][j])\n",
    "            colset.add(grid[j][i])\n",
    "        if len(rowset) != 9:\n",
    "            return False\n",
    "        if len(colset) != 9:\n",
    "            return False\n",
    "    import itertools\n",
    "    for i, j in itertools.product(range(0,8,3), range(0,8,3)):\n",
    "        \n",
    "        _set = add_elements_to_set(grid, i,j)\n",
    "        if len(_set) != 9:\n",
    "            return False\n",
    "    \n",
    "    \n",
    "    return True\n",
    "\n",
    "def add_elements_to_set(grid, m, n):\n",
    "    _set = set()\n",
    "    for i in range(m, m+3):\n",
    "        for j in range(n, n+3):\n",
    "            _set.add(grid[i][j])\n",
    "    return _set\n",
    "    \n"
   ]
  },
  {
   "cell_type": "code",
   "execution_count": 5,
   "metadata": {},
   "outputs": [],
   "source": [
    "def solution0(grid):\n",
    "\n",
    "    def r(i):\n",
    "        return sorted(grid[i]) != list(range(1,10))\n",
    "    \n",
    "    def c(i):\n",
    "        return sorted([grid[x][i] for x in range(9)]) != list(range(1,10))\n",
    "    \n",
    "    def g(x,y):\n",
    "        return sorted([grid[i][j] for i in range(x,x+3) for j in range(y,y+3)]) != list(range(1,10))\n",
    "\n",
    "    for i in range(9):\n",
    "        if r(i) or c(i):\n",
    "            return False\n",
    "    for i in range(0,9,3):\n",
    "        for j in range(0,9,3):\n",
    "            if g(i,j):\n",
    "                return False\n",
    "    return True\n",
    "            "
   ]
  },
  {
   "cell_type": "code",
   "execution_count": null,
   "metadata": {},
   "outputs": [],
   "source": []
  }
 ],
 "metadata": {
  "interpreter": {
   "hash": "fcdac387b723dab6cabf3be3f58bcaa9a14417ae421727ee28a12c9f5deacad3"
  },
  "kernelspec": {
   "display_name": "Python 3.10.4 64-bit",
   "language": "python",
   "name": "python3"
  },
  "language_info": {
   "codemirror_mode": {
    "name": "ipython",
    "version": 3
   },
   "file_extension": ".py",
   "mimetype": "text/x-python",
   "name": "python",
   "nbconvert_exporter": "python",
   "pygments_lexer": "ipython3",
   "version": "3.10.4"
  },
  "orig_nbformat": 4
 },
 "nbformat": 4,
 "nbformat_minor": 2
}
